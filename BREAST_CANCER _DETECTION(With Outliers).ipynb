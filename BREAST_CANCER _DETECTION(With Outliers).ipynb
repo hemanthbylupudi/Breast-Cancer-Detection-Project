{
 "cells": [
  {
   "cell_type": "markdown",
   "metadata": {
    "id": "xeaKaHSJFDsK"
   },
   "source": [
    "**Importing the necessary libraries**"
   ]
  },
  {
   "cell_type": "code",
   "execution_count": 3,
   "metadata": {
    "id": "JO_4WsubCYR6"
   },
   "outputs": [],
   "source": [
    "import pandas as pd               # For data manipulation and analysis\n",
    "import numpy as np                # For numerical operations\n",
    "from sklearn.preprocessing import StandardScaler  # For feature scaling\n",
    "from sklearn.ensemble import AdaBoostClassifier    # For ensemble learning using AdaBoost\n",
    "from sklearn.tree import DecisionTreeClassifier     # For decision tree classification\n",
    "from sklearn.model_selection import train_test_split  # For splitting data into training and testing sets\n",
    "from sklearn.metrics import accuracy_score, precision_score, recall_score, f1_score, confusion_matrix  # For evaluating model performance\n",
    "import seaborn as sns            # For data visualization\n",
    "import matplotlib.pyplot as plt   # For plotting graphs\n",
    "from sklearn.metrics import classification_report\n",
    "from imblearn.over_sampling import SMOTE"
   ]
  },
  {
   "cell_type": "markdown",
   "metadata": {},
   "source": [
    "**Load the dataset**"
   ]
  },
  {
   "cell_type": "code",
   "execution_count": 5,
   "metadata": {
    "id": "M22xsnL6FBEE"
   },
   "outputs": [],
   "source": [
    "url = \"https://archive.ics.uci.edu/ml/machine-learning-databases/breast-cancer-wisconsin/wdbc.data\"\n",
    "columns = ['ID', 'Diagnosis'] + [f'Feature_{i}' for i in range(1, 31)]\n",
    "data = pd.read_csv(url, header=None, names=columns)"
   ]
  },
  {
   "cell_type": "markdown",
   "metadata": {
    "id": "zrlGW11cFteK"
   },
   "source": [
    "**Displaying the first 5 rows of the dataset to get an overview of the data structure**"
   ]
  },
  {
   "cell_type": "code",
   "execution_count": 7,
   "metadata": {
    "colab": {
     "base_uri": "https://localhost:8080/"
    },
    "id": "d0FnyIMNFuda",
    "outputId": "553bcbfa-9e15-4733-ed9e-f901456e3315"
   },
   "outputs": [
    {
     "name": "stdout",
     "output_type": "stream",
     "text": [
      "         ID Diagnosis  Feature_1  Feature_2  Feature_3  Feature_4  Feature_5  \\\n",
      "0    842302         M      17.99      10.38     122.80     1001.0    0.11840   \n",
      "1    842517         M      20.57      17.77     132.90     1326.0    0.08474   \n",
      "2  84300903         M      19.69      21.25     130.00     1203.0    0.10960   \n",
      "3  84348301         M      11.42      20.38      77.58      386.1    0.14250   \n",
      "4  84358402         M      20.29      14.34     135.10     1297.0    0.10030   \n",
      "\n",
      "   Feature_6  Feature_7  Feature_8  ...  Feature_21  Feature_22  Feature_23  \\\n",
      "0    0.27760     0.3001    0.14710  ...       25.38       17.33      184.60   \n",
      "1    0.07864     0.0869    0.07017  ...       24.99       23.41      158.80   \n",
      "2    0.15990     0.1974    0.12790  ...       23.57       25.53      152.50   \n",
      "3    0.28390     0.2414    0.10520  ...       14.91       26.50       98.87   \n",
      "4    0.13280     0.1980    0.10430  ...       22.54       16.67      152.20   \n",
      "\n",
      "   Feature_24  Feature_25  Feature_26  Feature_27  Feature_28  Feature_29  \\\n",
      "0      2019.0      0.1622      0.6656      0.7119      0.2654      0.4601   \n",
      "1      1956.0      0.1238      0.1866      0.2416      0.1860      0.2750   \n",
      "2      1709.0      0.1444      0.4245      0.4504      0.2430      0.3613   \n",
      "3       567.7      0.2098      0.8663      0.6869      0.2575      0.6638   \n",
      "4      1575.0      0.1374      0.2050      0.4000      0.1625      0.2364   \n",
      "\n",
      "   Feature_30  \n",
      "0     0.11890  \n",
      "1     0.08902  \n",
      "2     0.08758  \n",
      "3     0.17300  \n",
      "4     0.07678  \n",
      "\n",
      "[5 rows x 32 columns]\n"
     ]
    }
   ],
   "source": [
    "print(data.head())"
   ]
  },
  {
   "cell_type": "markdown",
   "metadata": {
    "id": "rAKu4WsGHcDr"
   },
   "source": [
    "**Displaying the First 10 Rows of the Dataset**"
   ]
  },
  {
   "cell_type": "code",
   "execution_count": 9,
   "metadata": {
    "colab": {
     "base_uri": "https://localhost:8080/"
    },
    "id": "ySHkUNQ7HcrQ",
    "outputId": "0b41f54d-ba8d-491b-8d8d-41c6fe09eeb0"
   },
   "outputs": [
    {
     "name": "stdout",
     "output_type": "stream",
     "text": [
      "         ID Diagnosis  Feature_1  Feature_2  Feature_3  Feature_4  Feature_5  \\\n",
      "0    842302         M      17.99      10.38     122.80     1001.0    0.11840   \n",
      "1    842517         M      20.57      17.77     132.90     1326.0    0.08474   \n",
      "2  84300903         M      19.69      21.25     130.00     1203.0    0.10960   \n",
      "3  84348301         M      11.42      20.38      77.58      386.1    0.14250   \n",
      "4  84358402         M      20.29      14.34     135.10     1297.0    0.10030   \n",
      "5    843786         M      12.45      15.70      82.57      477.1    0.12780   \n",
      "6    844359         M      18.25      19.98     119.60     1040.0    0.09463   \n",
      "7  84458202         M      13.71      20.83      90.20      577.9    0.11890   \n",
      "8    844981         M      13.00      21.82      87.50      519.8    0.12730   \n",
      "9  84501001         M      12.46      24.04      83.97      475.9    0.11860   \n",
      "\n",
      "   Feature_6  Feature_7  Feature_8  ...  Feature_21  Feature_22  Feature_23  \\\n",
      "0    0.27760    0.30010    0.14710  ...       25.38       17.33      184.60   \n",
      "1    0.07864    0.08690    0.07017  ...       24.99       23.41      158.80   \n",
      "2    0.15990    0.19740    0.12790  ...       23.57       25.53      152.50   \n",
      "3    0.28390    0.24140    0.10520  ...       14.91       26.50       98.87   \n",
      "4    0.13280    0.19800    0.10430  ...       22.54       16.67      152.20   \n",
      "5    0.17000    0.15780    0.08089  ...       15.47       23.75      103.40   \n",
      "6    0.10900    0.11270    0.07400  ...       22.88       27.66      153.20   \n",
      "7    0.16450    0.09366    0.05985  ...       17.06       28.14      110.60   \n",
      "8    0.19320    0.18590    0.09353  ...       15.49       30.73      106.20   \n",
      "9    0.23960    0.22730    0.08543  ...       15.09       40.68       97.65   \n",
      "\n",
      "   Feature_24  Feature_25  Feature_26  Feature_27  Feature_28  Feature_29  \\\n",
      "0      2019.0      0.1622      0.6656      0.7119      0.2654      0.4601   \n",
      "1      1956.0      0.1238      0.1866      0.2416      0.1860      0.2750   \n",
      "2      1709.0      0.1444      0.4245      0.4504      0.2430      0.3613   \n",
      "3       567.7      0.2098      0.8663      0.6869      0.2575      0.6638   \n",
      "4      1575.0      0.1374      0.2050      0.4000      0.1625      0.2364   \n",
      "5       741.6      0.1791      0.5249      0.5355      0.1741      0.3985   \n",
      "6      1606.0      0.1442      0.2576      0.3784      0.1932      0.3063   \n",
      "7       897.0      0.1654      0.3682      0.2678      0.1556      0.3196   \n",
      "8       739.3      0.1703      0.5401      0.5390      0.2060      0.4378   \n",
      "9       711.4      0.1853      1.0580      1.1050      0.2210      0.4366   \n",
      "\n",
      "   Feature_30  \n",
      "0     0.11890  \n",
      "1     0.08902  \n",
      "2     0.08758  \n",
      "3     0.17300  \n",
      "4     0.07678  \n",
      "5     0.12440  \n",
      "6     0.08368  \n",
      "7     0.11510  \n",
      "8     0.10720  \n",
      "9     0.20750  \n",
      "\n",
      "[10 rows x 32 columns]\n"
     ]
    }
   ],
   "source": [
    "print(data.head(10))"
   ]
  },
  {
   "cell_type": "markdown",
   "metadata": {
    "id": "jtvMIxydHqRf"
   },
   "source": [
    "**Displaying the Last 10 Rows of the Dataset**"
   ]
  },
  {
   "cell_type": "code",
   "execution_count": 11,
   "metadata": {
    "colab": {
     "base_uri": "https://localhost:8080/"
    },
    "id": "1xvGnHROHtRi",
    "outputId": "304db494-1596-431e-99fc-51342a8b28df"
   },
   "outputs": [
    {
     "name": "stdout",
     "output_type": "stream",
     "text": [
      "         ID Diagnosis  Feature_1  Feature_2  Feature_3  Feature_4  Feature_5  \\\n",
      "559  925291         B      11.51      23.93      74.52      403.5    0.09261   \n",
      "560  925292         B      14.05      27.15      91.38      600.4    0.09929   \n",
      "561  925311         B      11.20      29.37      70.67      386.0    0.07449   \n",
      "562  925622         M      15.22      30.62     103.40      716.9    0.10480   \n",
      "563  926125         M      20.92      25.09     143.00     1347.0    0.10990   \n",
      "564  926424         M      21.56      22.39     142.00     1479.0    0.11100   \n",
      "565  926682         M      20.13      28.25     131.20     1261.0    0.09780   \n",
      "566  926954         M      16.60      28.08     108.30      858.1    0.08455   \n",
      "567  927241         M      20.60      29.33     140.10     1265.0    0.11780   \n",
      "568   92751         B       7.76      24.54      47.92      181.0    0.05263   \n",
      "\n",
      "     Feature_6  Feature_7  Feature_8  ...  Feature_21  Feature_22  Feature_23  \\\n",
      "559    0.10210    0.11120    0.04105  ...      12.480       37.16       82.28   \n",
      "560    0.11260    0.04462    0.04304  ...      15.300       33.17      100.20   \n",
      "561    0.03558    0.00000    0.00000  ...      11.920       38.30       75.19   \n",
      "562    0.20870    0.25500    0.09429  ...      17.520       42.79      128.70   \n",
      "563    0.22360    0.31740    0.14740  ...      24.290       29.41      179.10   \n",
      "564    0.11590    0.24390    0.13890  ...      25.450       26.40      166.10   \n",
      "565    0.10340    0.14400    0.09791  ...      23.690       38.25      155.00   \n",
      "566    0.10230    0.09251    0.05302  ...      18.980       34.12      126.70   \n",
      "567    0.27700    0.35140    0.15200  ...      25.740       39.42      184.60   \n",
      "568    0.04362    0.00000    0.00000  ...       9.456       30.37       59.16   \n",
      "\n",
      "     Feature_24  Feature_25  Feature_26  Feature_27  Feature_28  Feature_29  \\\n",
      "559       474.2     0.12980     0.25170      0.3630     0.09653      0.2112   \n",
      "560       706.7     0.12410     0.22640      0.1326     0.10480      0.2250   \n",
      "561       439.6     0.09267     0.05494      0.0000     0.00000      0.1566   \n",
      "562       915.0     0.14170     0.79170      1.1700     0.23560      0.4089   \n",
      "563      1819.0     0.14070     0.41860      0.6599     0.25420      0.2929   \n",
      "564      2027.0     0.14100     0.21130      0.4107     0.22160      0.2060   \n",
      "565      1731.0     0.11660     0.19220      0.3215     0.16280      0.2572   \n",
      "566      1124.0     0.11390     0.30940      0.3403     0.14180      0.2218   \n",
      "567      1821.0     0.16500     0.86810      0.9387     0.26500      0.4087   \n",
      "568       268.6     0.08996     0.06444      0.0000     0.00000      0.2871   \n",
      "\n",
      "     Feature_30  \n",
      "559     0.08732  \n",
      "560     0.08321  \n",
      "561     0.05905  \n",
      "562     0.14090  \n",
      "563     0.09873  \n",
      "564     0.07115  \n",
      "565     0.06637  \n",
      "566     0.07820  \n",
      "567     0.12400  \n",
      "568     0.07039  \n",
      "\n",
      "[10 rows x 32 columns]\n"
     ]
    }
   ],
   "source": [
    "print(data.tail(10))"
   ]
  },
  {
   "cell_type": "markdown",
   "metadata": {
    "id": "SGZUN9elH4NC"
   },
   "source": [
    "**Displaying the shape of the dataset.It returns the number of rows and columns in the DataFrame.**"
   ]
  },
  {
   "cell_type": "code",
   "execution_count": 13,
   "metadata": {
    "colab": {
     "base_uri": "https://localhost:8080/"
    },
    "id": "2ndatoOtILzM",
    "outputId": "63f31fe8-ccbd-4396-b56c-fb091fe8fcd4"
   },
   "outputs": [
    {
     "data": {
      "text/plain": [
       "(569, 32)"
      ]
     },
     "execution_count": 13,
     "metadata": {},
     "output_type": "execute_result"
    }
   ],
   "source": [
    "data.shape"
   ]
  },
  {
   "cell_type": "markdown",
   "metadata": {
    "id": "ZPcY58q-I-le"
   },
   "source": [
    "**Displaying summary information about the dataset**"
   ]
  },
  {
   "cell_type": "code",
   "execution_count": 16,
   "metadata": {
    "colab": {
     "base_uri": "https://localhost:8080/"
    },
    "id": "G9hwXyNTJwEp",
    "outputId": "62906150-be19-49a4-f3e8-7bfc34b17b4a"
   },
   "outputs": [
    {
     "name": "stdout",
     "output_type": "stream",
     "text": [
      "<class 'pandas.core.frame.DataFrame'>\n",
      "RangeIndex: 569 entries, 0 to 568\n",
      "Data columns (total 32 columns):\n",
      " #   Column      Non-Null Count  Dtype  \n",
      "---  ------      --------------  -----  \n",
      " 0   ID          569 non-null    int64  \n",
      " 1   Diagnosis   569 non-null    object \n",
      " 2   Feature_1   569 non-null    float64\n",
      " 3   Feature_2   569 non-null    float64\n",
      " 4   Feature_3   569 non-null    float64\n",
      " 5   Feature_4   569 non-null    float64\n",
      " 6   Feature_5   569 non-null    float64\n",
      " 7   Feature_6   569 non-null    float64\n",
      " 8   Feature_7   569 non-null    float64\n",
      " 9   Feature_8   569 non-null    float64\n",
      " 10  Feature_9   569 non-null    float64\n",
      " 11  Feature_10  569 non-null    float64\n",
      " 12  Feature_11  569 non-null    float64\n",
      " 13  Feature_12  569 non-null    float64\n",
      " 14  Feature_13  569 non-null    float64\n",
      " 15  Feature_14  569 non-null    float64\n",
      " 16  Feature_15  569 non-null    float64\n",
      " 17  Feature_16  569 non-null    float64\n",
      " 18  Feature_17  569 non-null    float64\n",
      " 19  Feature_18  569 non-null    float64\n",
      " 20  Feature_19  569 non-null    float64\n",
      " 21  Feature_20  569 non-null    float64\n",
      " 22  Feature_21  569 non-null    float64\n",
      " 23  Feature_22  569 non-null    float64\n",
      " 24  Feature_23  569 non-null    float64\n",
      " 25  Feature_24  569 non-null    float64\n",
      " 26  Feature_25  569 non-null    float64\n",
      " 27  Feature_26  569 non-null    float64\n",
      " 28  Feature_27  569 non-null    float64\n",
      " 29  Feature_28  569 non-null    float64\n",
      " 30  Feature_29  569 non-null    float64\n",
      " 31  Feature_30  569 non-null    float64\n",
      "dtypes: float64(30), int64(1), object(1)\n",
      "memory usage: 142.4+ KB\n"
     ]
    }
   ],
   "source": [
    "data.info()"
   ]
  },
  {
   "cell_type": "markdown",
   "metadata": {
    "id": "ej5DymOFLwxb"
   },
   "source": [
    "**Checking for missing values**"
   ]
  },
  {
   "cell_type": "code",
   "execution_count": 18,
   "metadata": {
    "colab": {
     "base_uri": "https://localhost:8080/"
    },
    "id": "EtXT8_xrLxnj",
    "outputId": "592adf22-24b1-4a0d-f991-affc01078e05"
   },
   "outputs": [
    {
     "name": "stdout",
     "output_type": "stream",
     "text": [
      "ID            0\n",
      "Diagnosis     0\n",
      "Feature_1     0\n",
      "Feature_2     0\n",
      "Feature_3     0\n",
      "Feature_4     0\n",
      "Feature_5     0\n",
      "Feature_6     0\n",
      "Feature_7     0\n",
      "Feature_8     0\n",
      "Feature_9     0\n",
      "Feature_10    0\n",
      "Feature_11    0\n",
      "Feature_12    0\n",
      "Feature_13    0\n",
      "Feature_14    0\n",
      "Feature_15    0\n",
      "Feature_16    0\n",
      "Feature_17    0\n",
      "Feature_18    0\n",
      "Feature_19    0\n",
      "Feature_20    0\n",
      "Feature_21    0\n",
      "Feature_22    0\n",
      "Feature_23    0\n",
      "Feature_24    0\n",
      "Feature_25    0\n",
      "Feature_26    0\n",
      "Feature_27    0\n",
      "Feature_28    0\n",
      "Feature_29    0\n",
      "Feature_30    0\n",
      "dtype: int64\n"
     ]
    }
   ],
   "source": [
    "print(data.isnull().sum())"
   ]
  },
  {
   "cell_type": "markdown",
   "metadata": {
    "id": "hX8RZ6meKErx"
   },
   "source": [
    "**To Display statistical summary of numerical columns in the dataset**"
   ]
  },
  {
   "cell_type": "code",
   "execution_count": 20,
   "metadata": {
    "colab": {
     "base_uri": "https://localhost:8080/",
     "height": 349
    },
    "id": "Yq29asbyKLLR",
    "outputId": "00664d54-3469-4e8c-cf5d-bba7591d555a"
   },
   "outputs": [
    {
     "data": {
      "text/html": [
       "<div>\n",
       "<style scoped>\n",
       "    .dataframe tbody tr th:only-of-type {\n",
       "        vertical-align: middle;\n",
       "    }\n",
       "\n",
       "    .dataframe tbody tr th {\n",
       "        vertical-align: top;\n",
       "    }\n",
       "\n",
       "    .dataframe thead th {\n",
       "        text-align: right;\n",
       "    }\n",
       "</style>\n",
       "<table border=\"1\" class=\"dataframe\">\n",
       "  <thead>\n",
       "    <tr style=\"text-align: right;\">\n",
       "      <th></th>\n",
       "      <th>ID</th>\n",
       "      <th>Feature_1</th>\n",
       "      <th>Feature_2</th>\n",
       "      <th>Feature_3</th>\n",
       "      <th>Feature_4</th>\n",
       "      <th>Feature_5</th>\n",
       "      <th>Feature_6</th>\n",
       "      <th>Feature_7</th>\n",
       "      <th>Feature_8</th>\n",
       "      <th>Feature_9</th>\n",
       "      <th>...</th>\n",
       "      <th>Feature_21</th>\n",
       "      <th>Feature_22</th>\n",
       "      <th>Feature_23</th>\n",
       "      <th>Feature_24</th>\n",
       "      <th>Feature_25</th>\n",
       "      <th>Feature_26</th>\n",
       "      <th>Feature_27</th>\n",
       "      <th>Feature_28</th>\n",
       "      <th>Feature_29</th>\n",
       "      <th>Feature_30</th>\n",
       "    </tr>\n",
       "  </thead>\n",
       "  <tbody>\n",
       "    <tr>\n",
       "      <th>count</th>\n",
       "      <td>5.690000e+02</td>\n",
       "      <td>569.000000</td>\n",
       "      <td>569.000000</td>\n",
       "      <td>569.000000</td>\n",
       "      <td>569.000000</td>\n",
       "      <td>569.000000</td>\n",
       "      <td>569.000000</td>\n",
       "      <td>569.000000</td>\n",
       "      <td>569.000000</td>\n",
       "      <td>569.000000</td>\n",
       "      <td>...</td>\n",
       "      <td>569.000000</td>\n",
       "      <td>569.000000</td>\n",
       "      <td>569.000000</td>\n",
       "      <td>569.000000</td>\n",
       "      <td>569.000000</td>\n",
       "      <td>569.000000</td>\n",
       "      <td>569.000000</td>\n",
       "      <td>569.000000</td>\n",
       "      <td>569.000000</td>\n",
       "      <td>569.000000</td>\n",
       "    </tr>\n",
       "    <tr>\n",
       "      <th>mean</th>\n",
       "      <td>3.037183e+07</td>\n",
       "      <td>14.127292</td>\n",
       "      <td>19.289649</td>\n",
       "      <td>91.969033</td>\n",
       "      <td>654.889104</td>\n",
       "      <td>0.096360</td>\n",
       "      <td>0.104341</td>\n",
       "      <td>0.088799</td>\n",
       "      <td>0.048919</td>\n",
       "      <td>0.181162</td>\n",
       "      <td>...</td>\n",
       "      <td>16.269190</td>\n",
       "      <td>25.677223</td>\n",
       "      <td>107.261213</td>\n",
       "      <td>880.583128</td>\n",
       "      <td>0.132369</td>\n",
       "      <td>0.254265</td>\n",
       "      <td>0.272188</td>\n",
       "      <td>0.114606</td>\n",
       "      <td>0.290076</td>\n",
       "      <td>0.083946</td>\n",
       "    </tr>\n",
       "    <tr>\n",
       "      <th>std</th>\n",
       "      <td>1.250206e+08</td>\n",
       "      <td>3.524049</td>\n",
       "      <td>4.301036</td>\n",
       "      <td>24.298981</td>\n",
       "      <td>351.914129</td>\n",
       "      <td>0.014064</td>\n",
       "      <td>0.052813</td>\n",
       "      <td>0.079720</td>\n",
       "      <td>0.038803</td>\n",
       "      <td>0.027414</td>\n",
       "      <td>...</td>\n",
       "      <td>4.833242</td>\n",
       "      <td>6.146258</td>\n",
       "      <td>33.602542</td>\n",
       "      <td>569.356993</td>\n",
       "      <td>0.022832</td>\n",
       "      <td>0.157336</td>\n",
       "      <td>0.208624</td>\n",
       "      <td>0.065732</td>\n",
       "      <td>0.061867</td>\n",
       "      <td>0.018061</td>\n",
       "    </tr>\n",
       "    <tr>\n",
       "      <th>min</th>\n",
       "      <td>8.670000e+03</td>\n",
       "      <td>6.981000</td>\n",
       "      <td>9.710000</td>\n",
       "      <td>43.790000</td>\n",
       "      <td>143.500000</td>\n",
       "      <td>0.052630</td>\n",
       "      <td>0.019380</td>\n",
       "      <td>0.000000</td>\n",
       "      <td>0.000000</td>\n",
       "      <td>0.106000</td>\n",
       "      <td>...</td>\n",
       "      <td>7.930000</td>\n",
       "      <td>12.020000</td>\n",
       "      <td>50.410000</td>\n",
       "      <td>185.200000</td>\n",
       "      <td>0.071170</td>\n",
       "      <td>0.027290</td>\n",
       "      <td>0.000000</td>\n",
       "      <td>0.000000</td>\n",
       "      <td>0.156500</td>\n",
       "      <td>0.055040</td>\n",
       "    </tr>\n",
       "    <tr>\n",
       "      <th>25%</th>\n",
       "      <td>8.692180e+05</td>\n",
       "      <td>11.700000</td>\n",
       "      <td>16.170000</td>\n",
       "      <td>75.170000</td>\n",
       "      <td>420.300000</td>\n",
       "      <td>0.086370</td>\n",
       "      <td>0.064920</td>\n",
       "      <td>0.029560</td>\n",
       "      <td>0.020310</td>\n",
       "      <td>0.161900</td>\n",
       "      <td>...</td>\n",
       "      <td>13.010000</td>\n",
       "      <td>21.080000</td>\n",
       "      <td>84.110000</td>\n",
       "      <td>515.300000</td>\n",
       "      <td>0.116600</td>\n",
       "      <td>0.147200</td>\n",
       "      <td>0.114500</td>\n",
       "      <td>0.064930</td>\n",
       "      <td>0.250400</td>\n",
       "      <td>0.071460</td>\n",
       "    </tr>\n",
       "    <tr>\n",
       "      <th>50%</th>\n",
       "      <td>9.060240e+05</td>\n",
       "      <td>13.370000</td>\n",
       "      <td>18.840000</td>\n",
       "      <td>86.240000</td>\n",
       "      <td>551.100000</td>\n",
       "      <td>0.095870</td>\n",
       "      <td>0.092630</td>\n",
       "      <td>0.061540</td>\n",
       "      <td>0.033500</td>\n",
       "      <td>0.179200</td>\n",
       "      <td>...</td>\n",
       "      <td>14.970000</td>\n",
       "      <td>25.410000</td>\n",
       "      <td>97.660000</td>\n",
       "      <td>686.500000</td>\n",
       "      <td>0.131300</td>\n",
       "      <td>0.211900</td>\n",
       "      <td>0.226700</td>\n",
       "      <td>0.099930</td>\n",
       "      <td>0.282200</td>\n",
       "      <td>0.080040</td>\n",
       "    </tr>\n",
       "    <tr>\n",
       "      <th>75%</th>\n",
       "      <td>8.813129e+06</td>\n",
       "      <td>15.780000</td>\n",
       "      <td>21.800000</td>\n",
       "      <td>104.100000</td>\n",
       "      <td>782.700000</td>\n",
       "      <td>0.105300</td>\n",
       "      <td>0.130400</td>\n",
       "      <td>0.130700</td>\n",
       "      <td>0.074000</td>\n",
       "      <td>0.195700</td>\n",
       "      <td>...</td>\n",
       "      <td>18.790000</td>\n",
       "      <td>29.720000</td>\n",
       "      <td>125.400000</td>\n",
       "      <td>1084.000000</td>\n",
       "      <td>0.146000</td>\n",
       "      <td>0.339100</td>\n",
       "      <td>0.382900</td>\n",
       "      <td>0.161400</td>\n",
       "      <td>0.317900</td>\n",
       "      <td>0.092080</td>\n",
       "    </tr>\n",
       "    <tr>\n",
       "      <th>max</th>\n",
       "      <td>9.113205e+08</td>\n",
       "      <td>28.110000</td>\n",
       "      <td>39.280000</td>\n",
       "      <td>188.500000</td>\n",
       "      <td>2501.000000</td>\n",
       "      <td>0.163400</td>\n",
       "      <td>0.345400</td>\n",
       "      <td>0.426800</td>\n",
       "      <td>0.201200</td>\n",
       "      <td>0.304000</td>\n",
       "      <td>...</td>\n",
       "      <td>36.040000</td>\n",
       "      <td>49.540000</td>\n",
       "      <td>251.200000</td>\n",
       "      <td>4254.000000</td>\n",
       "      <td>0.222600</td>\n",
       "      <td>1.058000</td>\n",
       "      <td>1.252000</td>\n",
       "      <td>0.291000</td>\n",
       "      <td>0.663800</td>\n",
       "      <td>0.207500</td>\n",
       "    </tr>\n",
       "  </tbody>\n",
       "</table>\n",
       "<p>8 rows × 31 columns</p>\n",
       "</div>"
      ],
      "text/plain": [
       "                 ID   Feature_1   Feature_2   Feature_3    Feature_4  \\\n",
       "count  5.690000e+02  569.000000  569.000000  569.000000   569.000000   \n",
       "mean   3.037183e+07   14.127292   19.289649   91.969033   654.889104   \n",
       "std    1.250206e+08    3.524049    4.301036   24.298981   351.914129   \n",
       "min    8.670000e+03    6.981000    9.710000   43.790000   143.500000   \n",
       "25%    8.692180e+05   11.700000   16.170000   75.170000   420.300000   \n",
       "50%    9.060240e+05   13.370000   18.840000   86.240000   551.100000   \n",
       "75%    8.813129e+06   15.780000   21.800000  104.100000   782.700000   \n",
       "max    9.113205e+08   28.110000   39.280000  188.500000  2501.000000   \n",
       "\n",
       "        Feature_5   Feature_6   Feature_7   Feature_8   Feature_9  ...  \\\n",
       "count  569.000000  569.000000  569.000000  569.000000  569.000000  ...   \n",
       "mean     0.096360    0.104341    0.088799    0.048919    0.181162  ...   \n",
       "std      0.014064    0.052813    0.079720    0.038803    0.027414  ...   \n",
       "min      0.052630    0.019380    0.000000    0.000000    0.106000  ...   \n",
       "25%      0.086370    0.064920    0.029560    0.020310    0.161900  ...   \n",
       "50%      0.095870    0.092630    0.061540    0.033500    0.179200  ...   \n",
       "75%      0.105300    0.130400    0.130700    0.074000    0.195700  ...   \n",
       "max      0.163400    0.345400    0.426800    0.201200    0.304000  ...   \n",
       "\n",
       "       Feature_21  Feature_22  Feature_23   Feature_24  Feature_25  \\\n",
       "count  569.000000  569.000000  569.000000   569.000000  569.000000   \n",
       "mean    16.269190   25.677223  107.261213   880.583128    0.132369   \n",
       "std      4.833242    6.146258   33.602542   569.356993    0.022832   \n",
       "min      7.930000   12.020000   50.410000   185.200000    0.071170   \n",
       "25%     13.010000   21.080000   84.110000   515.300000    0.116600   \n",
       "50%     14.970000   25.410000   97.660000   686.500000    0.131300   \n",
       "75%     18.790000   29.720000  125.400000  1084.000000    0.146000   \n",
       "max     36.040000   49.540000  251.200000  4254.000000    0.222600   \n",
       "\n",
       "       Feature_26  Feature_27  Feature_28  Feature_29  Feature_30  \n",
       "count  569.000000  569.000000  569.000000  569.000000  569.000000  \n",
       "mean     0.254265    0.272188    0.114606    0.290076    0.083946  \n",
       "std      0.157336    0.208624    0.065732    0.061867    0.018061  \n",
       "min      0.027290    0.000000    0.000000    0.156500    0.055040  \n",
       "25%      0.147200    0.114500    0.064930    0.250400    0.071460  \n",
       "50%      0.211900    0.226700    0.099930    0.282200    0.080040  \n",
       "75%      0.339100    0.382900    0.161400    0.317900    0.092080  \n",
       "max      1.058000    1.252000    0.291000    0.663800    0.207500  \n",
       "\n",
       "[8 rows x 31 columns]"
      ]
     },
     "execution_count": 20,
     "metadata": {},
     "output_type": "execute_result"
    }
   ],
   "source": [
    "data.describe()"
   ]
  },
  {
   "cell_type": "markdown",
   "metadata": {
    "id": "c5z9sIjqKxFs"
   },
   "source": [
    "\n",
    "**To Display transposed statistical summary of numerical columns in the dataset**"
   ]
  },
  {
   "cell_type": "code",
   "execution_count": 22,
   "metadata": {
    "colab": {
     "base_uri": "https://localhost:8080/",
     "height": 1000
    },
    "id": "XouHHaPUKxn6",
    "outputId": "aafb42f7-2dc8-40ca-8128-47e32bd67e27"
   },
   "outputs": [
    {
     "data": {
      "text/html": [
       "<div>\n",
       "<style scoped>\n",
       "    .dataframe tbody tr th:only-of-type {\n",
       "        vertical-align: middle;\n",
       "    }\n",
       "\n",
       "    .dataframe tbody tr th {\n",
       "        vertical-align: top;\n",
       "    }\n",
       "\n",
       "    .dataframe thead th {\n",
       "        text-align: right;\n",
       "    }\n",
       "</style>\n",
       "<table border=\"1\" class=\"dataframe\">\n",
       "  <thead>\n",
       "    <tr style=\"text-align: right;\">\n",
       "      <th></th>\n",
       "      <th>count</th>\n",
       "      <th>mean</th>\n",
       "      <th>std</th>\n",
       "      <th>min</th>\n",
       "      <th>25%</th>\n",
       "      <th>50%</th>\n",
       "      <th>75%</th>\n",
       "      <th>max</th>\n",
       "    </tr>\n",
       "  </thead>\n",
       "  <tbody>\n",
       "    <tr>\n",
       "      <th>ID</th>\n",
       "      <td>569.0</td>\n",
       "      <td>3.037183e+07</td>\n",
       "      <td>1.250206e+08</td>\n",
       "      <td>8670.000000</td>\n",
       "      <td>869218.000000</td>\n",
       "      <td>906024.000000</td>\n",
       "      <td>8.813129e+06</td>\n",
       "      <td>9.113205e+08</td>\n",
       "    </tr>\n",
       "    <tr>\n",
       "      <th>Feature_1</th>\n",
       "      <td>569.0</td>\n",
       "      <td>1.412729e+01</td>\n",
       "      <td>3.524049e+00</td>\n",
       "      <td>6.981000</td>\n",
       "      <td>11.700000</td>\n",
       "      <td>13.370000</td>\n",
       "      <td>1.578000e+01</td>\n",
       "      <td>2.811000e+01</td>\n",
       "    </tr>\n",
       "    <tr>\n",
       "      <th>Feature_2</th>\n",
       "      <td>569.0</td>\n",
       "      <td>1.928965e+01</td>\n",
       "      <td>4.301036e+00</td>\n",
       "      <td>9.710000</td>\n",
       "      <td>16.170000</td>\n",
       "      <td>18.840000</td>\n",
       "      <td>2.180000e+01</td>\n",
       "      <td>3.928000e+01</td>\n",
       "    </tr>\n",
       "    <tr>\n",
       "      <th>Feature_3</th>\n",
       "      <td>569.0</td>\n",
       "      <td>9.196903e+01</td>\n",
       "      <td>2.429898e+01</td>\n",
       "      <td>43.790000</td>\n",
       "      <td>75.170000</td>\n",
       "      <td>86.240000</td>\n",
       "      <td>1.041000e+02</td>\n",
       "      <td>1.885000e+02</td>\n",
       "    </tr>\n",
       "    <tr>\n",
       "      <th>Feature_4</th>\n",
       "      <td>569.0</td>\n",
       "      <td>6.548891e+02</td>\n",
       "      <td>3.519141e+02</td>\n",
       "      <td>143.500000</td>\n",
       "      <td>420.300000</td>\n",
       "      <td>551.100000</td>\n",
       "      <td>7.827000e+02</td>\n",
       "      <td>2.501000e+03</td>\n",
       "    </tr>\n",
       "    <tr>\n",
       "      <th>Feature_5</th>\n",
       "      <td>569.0</td>\n",
       "      <td>9.636028e-02</td>\n",
       "      <td>1.406413e-02</td>\n",
       "      <td>0.052630</td>\n",
       "      <td>0.086370</td>\n",
       "      <td>0.095870</td>\n",
       "      <td>1.053000e-01</td>\n",
       "      <td>1.634000e-01</td>\n",
       "    </tr>\n",
       "    <tr>\n",
       "      <th>Feature_6</th>\n",
       "      <td>569.0</td>\n",
       "      <td>1.043410e-01</td>\n",
       "      <td>5.281276e-02</td>\n",
       "      <td>0.019380</td>\n",
       "      <td>0.064920</td>\n",
       "      <td>0.092630</td>\n",
       "      <td>1.304000e-01</td>\n",
       "      <td>3.454000e-01</td>\n",
       "    </tr>\n",
       "    <tr>\n",
       "      <th>Feature_7</th>\n",
       "      <td>569.0</td>\n",
       "      <td>8.879932e-02</td>\n",
       "      <td>7.971981e-02</td>\n",
       "      <td>0.000000</td>\n",
       "      <td>0.029560</td>\n",
       "      <td>0.061540</td>\n",
       "      <td>1.307000e-01</td>\n",
       "      <td>4.268000e-01</td>\n",
       "    </tr>\n",
       "    <tr>\n",
       "      <th>Feature_8</th>\n",
       "      <td>569.0</td>\n",
       "      <td>4.891915e-02</td>\n",
       "      <td>3.880284e-02</td>\n",
       "      <td>0.000000</td>\n",
       "      <td>0.020310</td>\n",
       "      <td>0.033500</td>\n",
       "      <td>7.400000e-02</td>\n",
       "      <td>2.012000e-01</td>\n",
       "    </tr>\n",
       "    <tr>\n",
       "      <th>Feature_9</th>\n",
       "      <td>569.0</td>\n",
       "      <td>1.811619e-01</td>\n",
       "      <td>2.741428e-02</td>\n",
       "      <td>0.106000</td>\n",
       "      <td>0.161900</td>\n",
       "      <td>0.179200</td>\n",
       "      <td>1.957000e-01</td>\n",
       "      <td>3.040000e-01</td>\n",
       "    </tr>\n",
       "    <tr>\n",
       "      <th>Feature_10</th>\n",
       "      <td>569.0</td>\n",
       "      <td>6.279761e-02</td>\n",
       "      <td>7.060363e-03</td>\n",
       "      <td>0.049960</td>\n",
       "      <td>0.057700</td>\n",
       "      <td>0.061540</td>\n",
       "      <td>6.612000e-02</td>\n",
       "      <td>9.744000e-02</td>\n",
       "    </tr>\n",
       "    <tr>\n",
       "      <th>Feature_11</th>\n",
       "      <td>569.0</td>\n",
       "      <td>4.051721e-01</td>\n",
       "      <td>2.773127e-01</td>\n",
       "      <td>0.111500</td>\n",
       "      <td>0.232400</td>\n",
       "      <td>0.324200</td>\n",
       "      <td>4.789000e-01</td>\n",
       "      <td>2.873000e+00</td>\n",
       "    </tr>\n",
       "    <tr>\n",
       "      <th>Feature_12</th>\n",
       "      <td>569.0</td>\n",
       "      <td>1.216853e+00</td>\n",
       "      <td>5.516484e-01</td>\n",
       "      <td>0.360200</td>\n",
       "      <td>0.833900</td>\n",
       "      <td>1.108000</td>\n",
       "      <td>1.474000e+00</td>\n",
       "      <td>4.885000e+00</td>\n",
       "    </tr>\n",
       "    <tr>\n",
       "      <th>Feature_13</th>\n",
       "      <td>569.0</td>\n",
       "      <td>2.866059e+00</td>\n",
       "      <td>2.021855e+00</td>\n",
       "      <td>0.757000</td>\n",
       "      <td>1.606000</td>\n",
       "      <td>2.287000</td>\n",
       "      <td>3.357000e+00</td>\n",
       "      <td>2.198000e+01</td>\n",
       "    </tr>\n",
       "    <tr>\n",
       "      <th>Feature_14</th>\n",
       "      <td>569.0</td>\n",
       "      <td>4.033708e+01</td>\n",
       "      <td>4.549101e+01</td>\n",
       "      <td>6.802000</td>\n",
       "      <td>17.850000</td>\n",
       "      <td>24.530000</td>\n",
       "      <td>4.519000e+01</td>\n",
       "      <td>5.422000e+02</td>\n",
       "    </tr>\n",
       "    <tr>\n",
       "      <th>Feature_15</th>\n",
       "      <td>569.0</td>\n",
       "      <td>7.040979e-03</td>\n",
       "      <td>3.002518e-03</td>\n",
       "      <td>0.001713</td>\n",
       "      <td>0.005169</td>\n",
       "      <td>0.006380</td>\n",
       "      <td>8.146000e-03</td>\n",
       "      <td>3.113000e-02</td>\n",
       "    </tr>\n",
       "    <tr>\n",
       "      <th>Feature_16</th>\n",
       "      <td>569.0</td>\n",
       "      <td>2.547814e-02</td>\n",
       "      <td>1.790818e-02</td>\n",
       "      <td>0.002252</td>\n",
       "      <td>0.013080</td>\n",
       "      <td>0.020450</td>\n",
       "      <td>3.245000e-02</td>\n",
       "      <td>1.354000e-01</td>\n",
       "    </tr>\n",
       "    <tr>\n",
       "      <th>Feature_17</th>\n",
       "      <td>569.0</td>\n",
       "      <td>3.189372e-02</td>\n",
       "      <td>3.018606e-02</td>\n",
       "      <td>0.000000</td>\n",
       "      <td>0.015090</td>\n",
       "      <td>0.025890</td>\n",
       "      <td>4.205000e-02</td>\n",
       "      <td>3.960000e-01</td>\n",
       "    </tr>\n",
       "    <tr>\n",
       "      <th>Feature_18</th>\n",
       "      <td>569.0</td>\n",
       "      <td>1.179614e-02</td>\n",
       "      <td>6.170285e-03</td>\n",
       "      <td>0.000000</td>\n",
       "      <td>0.007638</td>\n",
       "      <td>0.010930</td>\n",
       "      <td>1.471000e-02</td>\n",
       "      <td>5.279000e-02</td>\n",
       "    </tr>\n",
       "    <tr>\n",
       "      <th>Feature_19</th>\n",
       "      <td>569.0</td>\n",
       "      <td>2.054230e-02</td>\n",
       "      <td>8.266372e-03</td>\n",
       "      <td>0.007882</td>\n",
       "      <td>0.015160</td>\n",
       "      <td>0.018730</td>\n",
       "      <td>2.348000e-02</td>\n",
       "      <td>7.895000e-02</td>\n",
       "    </tr>\n",
       "    <tr>\n",
       "      <th>Feature_20</th>\n",
       "      <td>569.0</td>\n",
       "      <td>3.794904e-03</td>\n",
       "      <td>2.646071e-03</td>\n",
       "      <td>0.000895</td>\n",
       "      <td>0.002248</td>\n",
       "      <td>0.003187</td>\n",
       "      <td>4.558000e-03</td>\n",
       "      <td>2.984000e-02</td>\n",
       "    </tr>\n",
       "    <tr>\n",
       "      <th>Feature_21</th>\n",
       "      <td>569.0</td>\n",
       "      <td>1.626919e+01</td>\n",
       "      <td>4.833242e+00</td>\n",
       "      <td>7.930000</td>\n",
       "      <td>13.010000</td>\n",
       "      <td>14.970000</td>\n",
       "      <td>1.879000e+01</td>\n",
       "      <td>3.604000e+01</td>\n",
       "    </tr>\n",
       "    <tr>\n",
       "      <th>Feature_22</th>\n",
       "      <td>569.0</td>\n",
       "      <td>2.567722e+01</td>\n",
       "      <td>6.146258e+00</td>\n",
       "      <td>12.020000</td>\n",
       "      <td>21.080000</td>\n",
       "      <td>25.410000</td>\n",
       "      <td>2.972000e+01</td>\n",
       "      <td>4.954000e+01</td>\n",
       "    </tr>\n",
       "    <tr>\n",
       "      <th>Feature_23</th>\n",
       "      <td>569.0</td>\n",
       "      <td>1.072612e+02</td>\n",
       "      <td>3.360254e+01</td>\n",
       "      <td>50.410000</td>\n",
       "      <td>84.110000</td>\n",
       "      <td>97.660000</td>\n",
       "      <td>1.254000e+02</td>\n",
       "      <td>2.512000e+02</td>\n",
       "    </tr>\n",
       "    <tr>\n",
       "      <th>Feature_24</th>\n",
       "      <td>569.0</td>\n",
       "      <td>8.805831e+02</td>\n",
       "      <td>5.693570e+02</td>\n",
       "      <td>185.200000</td>\n",
       "      <td>515.300000</td>\n",
       "      <td>686.500000</td>\n",
       "      <td>1.084000e+03</td>\n",
       "      <td>4.254000e+03</td>\n",
       "    </tr>\n",
       "    <tr>\n",
       "      <th>Feature_25</th>\n",
       "      <td>569.0</td>\n",
       "      <td>1.323686e-01</td>\n",
       "      <td>2.283243e-02</td>\n",
       "      <td>0.071170</td>\n",
       "      <td>0.116600</td>\n",
       "      <td>0.131300</td>\n",
       "      <td>1.460000e-01</td>\n",
       "      <td>2.226000e-01</td>\n",
       "    </tr>\n",
       "    <tr>\n",
       "      <th>Feature_26</th>\n",
       "      <td>569.0</td>\n",
       "      <td>2.542650e-01</td>\n",
       "      <td>1.573365e-01</td>\n",
       "      <td>0.027290</td>\n",
       "      <td>0.147200</td>\n",
       "      <td>0.211900</td>\n",
       "      <td>3.391000e-01</td>\n",
       "      <td>1.058000e+00</td>\n",
       "    </tr>\n",
       "    <tr>\n",
       "      <th>Feature_27</th>\n",
       "      <td>569.0</td>\n",
       "      <td>2.721885e-01</td>\n",
       "      <td>2.086243e-01</td>\n",
       "      <td>0.000000</td>\n",
       "      <td>0.114500</td>\n",
       "      <td>0.226700</td>\n",
       "      <td>3.829000e-01</td>\n",
       "      <td>1.252000e+00</td>\n",
       "    </tr>\n",
       "    <tr>\n",
       "      <th>Feature_28</th>\n",
       "      <td>569.0</td>\n",
       "      <td>1.146062e-01</td>\n",
       "      <td>6.573234e-02</td>\n",
       "      <td>0.000000</td>\n",
       "      <td>0.064930</td>\n",
       "      <td>0.099930</td>\n",
       "      <td>1.614000e-01</td>\n",
       "      <td>2.910000e-01</td>\n",
       "    </tr>\n",
       "    <tr>\n",
       "      <th>Feature_29</th>\n",
       "      <td>569.0</td>\n",
       "      <td>2.900756e-01</td>\n",
       "      <td>6.186747e-02</td>\n",
       "      <td>0.156500</td>\n",
       "      <td>0.250400</td>\n",
       "      <td>0.282200</td>\n",
       "      <td>3.179000e-01</td>\n",
       "      <td>6.638000e-01</td>\n",
       "    </tr>\n",
       "    <tr>\n",
       "      <th>Feature_30</th>\n",
       "      <td>569.0</td>\n",
       "      <td>8.394582e-02</td>\n",
       "      <td>1.806127e-02</td>\n",
       "      <td>0.055040</td>\n",
       "      <td>0.071460</td>\n",
       "      <td>0.080040</td>\n",
       "      <td>9.208000e-02</td>\n",
       "      <td>2.075000e-01</td>\n",
       "    </tr>\n",
       "  </tbody>\n",
       "</table>\n",
       "</div>"
      ],
      "text/plain": [
       "            count          mean           std          min            25%  \\\n",
       "ID          569.0  3.037183e+07  1.250206e+08  8670.000000  869218.000000   \n",
       "Feature_1   569.0  1.412729e+01  3.524049e+00     6.981000      11.700000   \n",
       "Feature_2   569.0  1.928965e+01  4.301036e+00     9.710000      16.170000   \n",
       "Feature_3   569.0  9.196903e+01  2.429898e+01    43.790000      75.170000   \n",
       "Feature_4   569.0  6.548891e+02  3.519141e+02   143.500000     420.300000   \n",
       "Feature_5   569.0  9.636028e-02  1.406413e-02     0.052630       0.086370   \n",
       "Feature_6   569.0  1.043410e-01  5.281276e-02     0.019380       0.064920   \n",
       "Feature_7   569.0  8.879932e-02  7.971981e-02     0.000000       0.029560   \n",
       "Feature_8   569.0  4.891915e-02  3.880284e-02     0.000000       0.020310   \n",
       "Feature_9   569.0  1.811619e-01  2.741428e-02     0.106000       0.161900   \n",
       "Feature_10  569.0  6.279761e-02  7.060363e-03     0.049960       0.057700   \n",
       "Feature_11  569.0  4.051721e-01  2.773127e-01     0.111500       0.232400   \n",
       "Feature_12  569.0  1.216853e+00  5.516484e-01     0.360200       0.833900   \n",
       "Feature_13  569.0  2.866059e+00  2.021855e+00     0.757000       1.606000   \n",
       "Feature_14  569.0  4.033708e+01  4.549101e+01     6.802000      17.850000   \n",
       "Feature_15  569.0  7.040979e-03  3.002518e-03     0.001713       0.005169   \n",
       "Feature_16  569.0  2.547814e-02  1.790818e-02     0.002252       0.013080   \n",
       "Feature_17  569.0  3.189372e-02  3.018606e-02     0.000000       0.015090   \n",
       "Feature_18  569.0  1.179614e-02  6.170285e-03     0.000000       0.007638   \n",
       "Feature_19  569.0  2.054230e-02  8.266372e-03     0.007882       0.015160   \n",
       "Feature_20  569.0  3.794904e-03  2.646071e-03     0.000895       0.002248   \n",
       "Feature_21  569.0  1.626919e+01  4.833242e+00     7.930000      13.010000   \n",
       "Feature_22  569.0  2.567722e+01  6.146258e+00    12.020000      21.080000   \n",
       "Feature_23  569.0  1.072612e+02  3.360254e+01    50.410000      84.110000   \n",
       "Feature_24  569.0  8.805831e+02  5.693570e+02   185.200000     515.300000   \n",
       "Feature_25  569.0  1.323686e-01  2.283243e-02     0.071170       0.116600   \n",
       "Feature_26  569.0  2.542650e-01  1.573365e-01     0.027290       0.147200   \n",
       "Feature_27  569.0  2.721885e-01  2.086243e-01     0.000000       0.114500   \n",
       "Feature_28  569.0  1.146062e-01  6.573234e-02     0.000000       0.064930   \n",
       "Feature_29  569.0  2.900756e-01  6.186747e-02     0.156500       0.250400   \n",
       "Feature_30  569.0  8.394582e-02  1.806127e-02     0.055040       0.071460   \n",
       "\n",
       "                      50%           75%           max  \n",
       "ID          906024.000000  8.813129e+06  9.113205e+08  \n",
       "Feature_1       13.370000  1.578000e+01  2.811000e+01  \n",
       "Feature_2       18.840000  2.180000e+01  3.928000e+01  \n",
       "Feature_3       86.240000  1.041000e+02  1.885000e+02  \n",
       "Feature_4      551.100000  7.827000e+02  2.501000e+03  \n",
       "Feature_5        0.095870  1.053000e-01  1.634000e-01  \n",
       "Feature_6        0.092630  1.304000e-01  3.454000e-01  \n",
       "Feature_7        0.061540  1.307000e-01  4.268000e-01  \n",
       "Feature_8        0.033500  7.400000e-02  2.012000e-01  \n",
       "Feature_9        0.179200  1.957000e-01  3.040000e-01  \n",
       "Feature_10       0.061540  6.612000e-02  9.744000e-02  \n",
       "Feature_11       0.324200  4.789000e-01  2.873000e+00  \n",
       "Feature_12       1.108000  1.474000e+00  4.885000e+00  \n",
       "Feature_13       2.287000  3.357000e+00  2.198000e+01  \n",
       "Feature_14      24.530000  4.519000e+01  5.422000e+02  \n",
       "Feature_15       0.006380  8.146000e-03  3.113000e-02  \n",
       "Feature_16       0.020450  3.245000e-02  1.354000e-01  \n",
       "Feature_17       0.025890  4.205000e-02  3.960000e-01  \n",
       "Feature_18       0.010930  1.471000e-02  5.279000e-02  \n",
       "Feature_19       0.018730  2.348000e-02  7.895000e-02  \n",
       "Feature_20       0.003187  4.558000e-03  2.984000e-02  \n",
       "Feature_21      14.970000  1.879000e+01  3.604000e+01  \n",
       "Feature_22      25.410000  2.972000e+01  4.954000e+01  \n",
       "Feature_23      97.660000  1.254000e+02  2.512000e+02  \n",
       "Feature_24     686.500000  1.084000e+03  4.254000e+03  \n",
       "Feature_25       0.131300  1.460000e-01  2.226000e-01  \n",
       "Feature_26       0.211900  3.391000e-01  1.058000e+00  \n",
       "Feature_27       0.226700  3.829000e-01  1.252000e+00  \n",
       "Feature_28       0.099930  1.614000e-01  2.910000e-01  \n",
       "Feature_29       0.282200  3.179000e-01  6.638000e-01  \n",
       "Feature_30       0.080040  9.208000e-02  2.075000e-01  "
      ]
     },
     "execution_count": 22,
     "metadata": {},
     "output_type": "execute_result"
    }
   ],
   "source": [
    "data.describe().T"
   ]
  },
  {
   "cell_type": "markdown",
   "metadata": {
    "id": "9lC18aaKLI3T"
   },
   "source": [
    "**To Check for duplicate rows**"
   ]
  },
  {
   "cell_type": "code",
   "execution_count": 24,
   "metadata": {
    "colab": {
     "base_uri": "https://localhost:8080/"
    },
    "id": "oZT45gzULJe_",
    "outputId": "3f8d59e6-b48d-42c0-9cc2-eac98c5c82ea"
   },
   "outputs": [
    {
     "name": "stdout",
     "output_type": "stream",
     "text": [
      "Number of Rows with Duplicates: 0\n",
      "Percentage of Duplicate Rows: 0.00%\n"
     ]
    }
   ],
   "source": [
    "num_total_rows = len(data) # Calculate total number of rows\n",
    "num_duplicate_rows = data.duplicated().sum() # Calculate number of duplicate rows\n",
    "percentage_duplicates = (num_duplicate_rows / num_total_rows) * 100 # Calculate percentage of duplicate rows\n",
    "print(f\"Number of Rows with Duplicates: {num_duplicate_rows}\") # Print the results\n",
    "print(f\"Percentage of Duplicate Rows: {percentage_duplicates:.2f}%\")"
   ]
  },
  {
   "cell_type": "markdown",
   "metadata": {
    "id": "uBMYYVaHMYY1"
   },
   "source": [
    "**Counting Unique Values for Each Column**"
   ]
  },
  {
   "cell_type": "code",
   "execution_count": 26,
   "metadata": {
    "colab": {
     "base_uri": "https://localhost:8080/"
    },
    "id": "Djubk0UoMZNJ",
    "outputId": "19760d9c-19b1-44e1-8082-74c9ba0c018b"
   },
   "outputs": [
    {
     "name": "stdout",
     "output_type": "stream",
     "text": [
      "ID            569\n",
      "Diagnosis       2\n",
      "Feature_1     456\n",
      "Feature_2     479\n",
      "Feature_3     522\n",
      "Feature_4     539\n",
      "Feature_5     474\n",
      "Feature_6     537\n",
      "Feature_7     537\n",
      "Feature_8     542\n",
      "Feature_9     432\n",
      "Feature_10    499\n",
      "Feature_11    540\n",
      "Feature_12    519\n",
      "Feature_13    533\n",
      "Feature_14    528\n",
      "Feature_15    547\n",
      "Feature_16    541\n",
      "Feature_17    533\n",
      "Feature_18    507\n",
      "Feature_19    498\n",
      "Feature_20    545\n",
      "Feature_21    457\n",
      "Feature_22    511\n",
      "Feature_23    514\n",
      "Feature_24    544\n",
      "Feature_25    411\n",
      "Feature_26    529\n",
      "Feature_27    539\n",
      "Feature_28    492\n",
      "Feature_29    500\n",
      "Feature_30    535\n",
      "dtype: int64\n"
     ]
    }
   ],
   "source": [
    "# Count unique values for each column\n",
    "unique_counts = data.nunique()\n",
    "# Display the unique counts\n",
    "print(unique_counts)"
   ]
  },
  {
   "cell_type": "markdown",
   "metadata": {
    "id": "9UBSJrGZNEWX"
   },
   "source": [
    "**Dropping unecessary columns (ID)**"
   ]
  },
  {
   "cell_type": "code",
   "execution_count": 33,
   "metadata": {
    "colab": {
     "base_uri": "https://localhost:8080/"
    },
    "id": "WMzTZ3raNE71",
    "outputId": "37f90ad6-d718-45a3-b004-f1e16c3792ca"
   },
   "outputs": [
    {
     "name": "stdout",
     "output_type": "stream",
     "text": [
      "Index(['Diagnosis', 'Feature_1', 'Feature_2', 'Feature_3', 'Feature_4',\n",
      "       'Feature_5', 'Feature_6', 'Feature_7', 'Feature_8', 'Feature_9',\n",
      "       'Feature_10', 'Feature_11', 'Feature_12', 'Feature_13', 'Feature_14',\n",
      "       'Feature_15', 'Feature_16', 'Feature_17', 'Feature_18', 'Feature_19',\n",
      "       'Feature_20', 'Feature_21', 'Feature_22', 'Feature_23', 'Feature_24',\n",
      "       'Feature_25', 'Feature_26', 'Feature_27', 'Feature_28', 'Feature_29',\n",
      "       'Feature_30'],\n",
      "      dtype='object')\n"
     ]
    }
   ],
   "source": [
    "if 'ID' in data.columns:\n",
    "    data.drop('ID', axis=1, inplace=True)\n",
    "print(data.columns) #verifying remaining columns"
   ]
  },
  {
   "cell_type": "markdown",
   "metadata": {
    "id": "ob7FHKq3QOZ4"
   },
   "source": [
    "**Encoding Target variables**"
   ]
  },
  {
   "cell_type": "code",
   "execution_count": 44,
   "metadata": {
    "colab": {
     "base_uri": "https://localhost:8080/"
    },
    "id": "L_I-jmN6QPHM",
    "outputId": "91a99308-90ed-420f-d012-93f68b8374bf"
   },
   "outputs": [
    {
     "name": "stdout",
     "output_type": "stream",
     "text": [
      "   Diagnosis  Feature_1  Feature_2  Feature_3  Feature_4  Feature_5  \\\n",
      "0          1      17.99      10.38     122.80     1001.0    0.11840   \n",
      "1          1      20.57      17.77     132.90     1326.0    0.08474   \n",
      "2          1      19.69      21.25     130.00     1203.0    0.10960   \n",
      "3          1      11.42      20.38      77.58      386.1    0.14250   \n",
      "4          1      20.29      14.34     135.10     1297.0    0.10030   \n",
      "\n",
      "   Feature_6  Feature_7  Feature_8  Feature_9  ...  Feature_21  Feature_22  \\\n",
      "0    0.27760     0.3001    0.14710     0.2419  ...       25.38       17.33   \n",
      "1    0.07864     0.0869    0.07017     0.1812  ...       24.99       23.41   \n",
      "2    0.15990     0.1974    0.12790     0.2069  ...       23.57       25.53   \n",
      "3    0.28390     0.2414    0.10520     0.2597  ...       14.91       26.50   \n",
      "4    0.13280     0.1980    0.10430     0.1809  ...       22.54       16.67   \n",
      "\n",
      "   Feature_23  Feature_24  Feature_25  Feature_26  Feature_27  Feature_28  \\\n",
      "0      184.60      2019.0      0.1622      0.6656      0.7119      0.2654   \n",
      "1      158.80      1956.0      0.1238      0.1866      0.2416      0.1860   \n",
      "2      152.50      1709.0      0.1444      0.4245      0.4504      0.2430   \n",
      "3       98.87       567.7      0.2098      0.8663      0.6869      0.2575   \n",
      "4      152.20      1575.0      0.1374      0.2050      0.4000      0.1625   \n",
      "\n",
      "   Feature_29  Feature_30  \n",
      "0      0.4601     0.11890  \n",
      "1      0.2750     0.08902  \n",
      "2      0.3613     0.08758  \n",
      "3      0.6638     0.17300  \n",
      "4      0.2364     0.07678  \n",
      "\n",
      "[5 rows x 31 columns]\n"
     ]
    }
   ],
   "source": [
    "data['Diagnosis'] = data['Diagnosis'].map({'M': 1, 'B': 0})  # Map 'M' to 1, 'B' to 0\n",
    "print(data.head())                      # Check the first few rows after encoding"
   ]
  },
  {
   "cell_type": "markdown",
   "metadata": {
    "id": "lObJ0VhjRKgF"
   },
   "source": [
    "**To Define Features and Target**"
   ]
  },
  {
   "cell_type": "code",
   "execution_count": 47,
   "metadata": {
    "colab": {
     "base_uri": "https://localhost:8080/"
    },
    "id": "cYxM-bMDRK-S",
    "outputId": "c934acb9-8e44-40c8-f921-a4c183449266"
   },
   "outputs": [
    {
     "name": "stdout",
     "output_type": "stream",
     "text": [
      "(569, 30) (569,)\n"
     ]
    }
   ],
   "source": [
    "X = data.iloc[:, :-1]                   # All columns except the last one\n",
    "y = data.iloc[:, -1]                    # Last column (target variable)\n",
    "print(X.shape, y.shape)                 # Verify shapes of features and target"
   ]
  },
  {
   "cell_type": "markdown",
   "metadata": {
    "id": "coxLTTkbRvuj"
   },
   "source": [
    "**Scaling Features and Display the first few rows of the scaled features**"
   ]
  },
  {
   "cell_type": "code",
   "execution_count": 106,
   "metadata": {
    "id": "q0lMpETZWLR9"
   },
   "outputs": [
    {
     "name": "stdout",
     "output_type": "stream",
     "text": [
      "   Feature_1  Feature_2  Feature_3  Feature_4  Feature_5  Feature_6  \\\n",
      "0   1.097064  -2.073335   1.269934   0.984375   1.568466   3.283515   \n",
      "1   1.829821  -0.353632   1.685955   1.908708  -0.826962  -0.487072   \n",
      "2   1.579888   0.456187   1.566503   1.558884   0.942210   1.052926   \n",
      "3  -0.768909   0.253732  -0.592687  -0.764464   3.283553   3.402909   \n",
      "4   1.750297  -1.151816   1.776573   1.826229   0.280372   0.539340   \n",
      "\n",
      "   Feature_7  Feature_8  Feature_9  Feature_10  ...  Feature_21  Feature_22  \\\n",
      "0   2.652874   2.532475   2.217515    2.255747  ...    1.886690   -1.359293   \n",
      "1  -0.023846   0.548144   0.001392   -0.868652  ...    1.805927   -0.369203   \n",
      "2   1.363478   2.037231   0.939685   -0.398008  ...    1.511870   -0.023974   \n",
      "3   1.915897   1.451707   2.867383    4.910919  ...   -0.281464    0.133984   \n",
      "4   1.371011   1.428493  -0.009560   -0.562450  ...    1.298575   -1.466770   \n",
      "\n",
      "   Feature_23  Feature_24  Feature_25  Feature_26  Feature_27  Feature_28  \\\n",
      "0    2.303601    2.001237    1.307686    2.616665    2.109526    2.296076   \n",
      "1    1.535126    1.890489   -0.375612   -0.430444   -0.146749    1.087084   \n",
      "2    1.347475    1.456285    0.527407    1.082932    0.854974    1.955000   \n",
      "3   -0.249939   -0.550021    3.394275    3.893397    1.989588    2.175786   \n",
      "4    1.338539    1.220724    0.220556   -0.313395    0.613179    0.729259   \n",
      "\n",
      "   Feature_29  Feature_30  \n",
      "0    2.750622    1.937015  \n",
      "1   -0.243890    0.281190  \n",
      "2    1.152255    0.201391  \n",
      "3    6.046041    4.935010  \n",
      "4   -0.868353   -0.397100  \n",
      "\n",
      "[5 rows x 30 columns]\n"
     ]
    }
   ],
   "source": [
    "# Scale the features\n",
    "scaler = StandardScaler()\n",
    "X_scaled = scaler.fit_transform(X)\n",
    "# Display the first few rows of the scaled features\n",
    "print(pd.DataFrame(X_scaled, columns=X.columns).head())\n"
   ]
  },
  {
   "cell_type": "markdown",
   "metadata": {},
   "source": [
    "**Outlier Detection**"
   ]
  },
  {
   "cell_type": "code",
   "execution_count": 86,
   "metadata": {},
   "outputs": [],
   "source": [
    "# Calculate and visualize the impact of outliers\n",
    "# Define IQR method for outlier detection\n",
    "Q1 = data.quantile(0.25)\n",
    "Q3 = data.quantile(0.75)\n",
    "IQR = Q3 - Q1"
   ]
  },
  {
   "cell_type": "code",
   "execution_count": 88,
   "metadata": {},
   "outputs": [
    {
     "name": "stdout",
     "output_type": "stream",
     "text": [
      "\n",
      "Outliers detected:\n",
      "Diagnosis      0\n",
      "Feature_1     14\n",
      "Feature_2      7\n",
      "Feature_3     13\n",
      "Feature_4     25\n",
      "Feature_5      6\n",
      "Feature_6     16\n",
      "Feature_7     18\n",
      "Feature_8     10\n",
      "Feature_9     15\n",
      "Feature_10    15\n",
      "Feature_11    38\n",
      "Feature_12    20\n",
      "Feature_13    38\n",
      "Feature_14    65\n",
      "Feature_15    30\n",
      "Feature_16    28\n",
      "Feature_17    22\n",
      "Feature_18    19\n",
      "Feature_19    27\n",
      "Feature_20    28\n",
      "Feature_21    17\n",
      "Feature_22     5\n",
      "Feature_23    15\n",
      "Feature_24    35\n",
      "Feature_25     7\n",
      "Feature_26    16\n",
      "Feature_27    12\n",
      "Feature_28     0\n",
      "Feature_29    23\n",
      "Feature_30    24\n",
      "dtype: int64\n"
     ]
    }
   ],
   "source": [
    "# Identify outliers\n",
    "outliers = (data < (Q1 - 1.5 * IQR)) | (data > (Q3 + 1.5 * IQR))\n",
    "print(\"\\nOutliers detected:\")\n",
    "print(outliers.sum())"
   ]
  },
  {
   "cell_type": "markdown",
   "metadata": {},
   "source": [
    "**Visualization of Outlier Distribution Across Features After Scaling**"
   ]
  },
  {
   "cell_type": "code",
   "execution_count": 100,
   "metadata": {},
   "outputs": [],
   "source": [
    "# Get the number of outliers for each column\n",
    "num_outliers_per_column = outliers.sum()"
   ]
  },
  {
   "cell_type": "code",
   "execution_count": 102,
   "metadata": {},
   "outputs": [
    {
     "name": "stderr",
     "output_type": "stream",
     "text": [
      "C:\\Users\\91979\\AppData\\Local\\Temp\\ipykernel_648\\4057394461.py:3: FutureWarning: \n",
      "\n",
      "Passing `palette` without assigning `hue` is deprecated and will be removed in v0.14.0. Assign the `x` variable to `hue` and set `legend=False` for the same effect.\n",
      "\n",
      "  sns.barplot(x=num_outliers_per_column.index, y=num_outliers_per_column.values, palette='viridis')  # Set color palette\n"
     ]
    },
    {
     "data": {
      "image/png": "[encoded data removed]",
      "text/plain": [
       "<Figure size 1200x600 with 1 Axes>"
      ]
     },
     "metadata": {},
     "output_type": "display_data"
    }
   ],
   "source": [
    "# Visualize the number of outliers per feature with a color palette\n",
    "plt.figure(figsize=(12, 6))\n",
    "sns.barplot(x=num_outliers_per_column.index, y=num_outliers_per_column.values, palette='viridis')  # Set color palette\n",
    "plt.xticks(rotation=90)\n",
    "plt.title(\"Number of Outliers per Feature\")\n",
    "plt.xlabel(\"Feature\")\n",
    "plt.ylabel(\"Number of Outliers\")\n",
    "plt.show()"
   ]
  },
  {
   "cell_type": "markdown",
   "metadata": {},
   "source": [
    "**Target Distribution Visualization, and Feature Correlation Analysis**"
   ]
  },
  {
   "cell_type": "code",
   "execution_count": 61,
   "metadata": {
    "colab": {
     "base_uri": "https://localhost:8080/",
     "height": 472
    },
    "id": "I0gLtkAtgMre",
    "outputId": "15e923ff-44fc-41ec-d992-55f2dfcf7eb0"
   },
   "outputs": [
    {
     "name": "stderr",
     "output_type": "stream",
     "text": [
      "C:\\Users\\91979\\AppData\\Local\\Temp\\ipykernel_648\\2408028487.py:2: FutureWarning: \n",
      "\n",
      "Passing `palette` without assigning `hue` is deprecated and will be removed in v0.14.0. Assign the `x` variable to `hue` and set `legend=False` for the same effect.\n",
      "\n",
      "  ax = sns.countplot(x='Diagnosis', data=data, palette={'0': 'blue', '1': 'red'})\n"
     ]
    },
    {
     "data": {
      "image/png": "[encoded data removed]",
      "text/plain": [
       "<Figure size 640x480 with 1 Axes>"
      ]
     },
     "metadata": {},
     "output_type": "display_data"
    },
    {
     "data": {
      "image/png": "[encoded data removed]",
      "text/plain": [
       "<Figure size 800x500 with 2 Axes>"
      ]
     },
     "metadata": {},
     "output_type": "display_data"
    }
   ],
   "source": [
    "# Countplot of the target variable (Benign vs Malignant) with percentages on top\n",
    "ax = sns.countplot(x='Diagnosis', data=data, palette={'0': 'blue', '1': 'red'})\n",
    "plt.title('Count of Benign and Malignant cases')\n",
    "\n",
    "# Calculate percentages and add text annotations\n",
    "total = len(data)\n",
    "for p in ax.patches:\n",
    "    count = p.get_height()\n",
    "    percentage = f'{count / total * 100:.1f}%'\n",
    "    ax.text(p.get_x() + p.get_width() / 2, count + 3, percentage, ha=\"center\")\n",
    "\n",
    "plt.show()\n",
    "\n",
    "# Correlation heatmap to visualize relationships between features\n",
    "plt.figure(figsize=(8, 5))\n",
    "sns.heatmap(data.corr(), annot=False, cmap='coolwarm')\n",
    "plt.title('Feature Correlation Heatmap')\n",
    "plt.show()\n"
   ]
  },
  {
   "cell_type": "markdown",
   "metadata": {},
   "source": [
    "**Pairwise Feature Visualization Using Seaborn's Pairplot**"
   ]
  },
  {
   "cell_type": "code",
   "execution_count": 64,
   "metadata": {},
   "outputs": [
    {
     "data": {
      "image/png": "[encoded data removed]",
      "text/plain": [
       "<Figure size 1000x600 with 4 Axes>"
      ]
     },
     "metadata": {},
     "output_type": "display_data"
    }
   ],
   "source": [
    "# Plotting positive correlated features\n",
    "plt.figure(figsize=(10, 6))\n",
    "plt.subplot(2, 2, 1)\n",
    "sns.scatterplot(x=data['Feature_3'], y=data['Feature_21'], hue=data['Diagnosis'], palette=['blue', 'orange'])\n",
    "plt.title('Perimeter Mean vs Radius Worst')\n",
    "\n",
    "plt.subplot(2, 2, 2)\n",
    "sns.scatterplot(x=data['Feature_4'], y=data['Feature_21'], hue=data['Diagnosis'], palette=['blue', 'orange'])\n",
    "plt.title('Area Mean vs Radius Worst')\n",
    "\n",
    "plt.subplot(2, 2, 3)\n",
    "sns.scatterplot(x=data['Feature_2'], y=data['Feature_22'], hue=data['Diagnosis'], palette=['blue', 'orange'])\n",
    "plt.title('Texture Mean vs Texture Worst')\n",
    "\n",
    "plt.subplot(2, 2, 4)\n",
    "sns.scatterplot(x=data['Feature_4'], y=data['Feature_21'], hue=data['Diagnosis'], palette=['blue', 'orange'])\n",
    "plt.title('Area Mean vs Radius Worst')\n",
    "\n",
    "plt.tight_layout()\n",
    "plt.show()\n"
   ]
  },
  {
   "cell_type": "markdown",
   "metadata": {},
   "source": [
    "**Data Splitting for Training and Testing Using Scikit-Learn's train_test_split**"
   ]
  },
  {
   "cell_type": "code",
   "execution_count": 108,
   "metadata": {},
   "outputs": [],
   "source": [
    "# Split data into training and testing sets\n",
    "X_train, X_test, y_train, y_test = train_test_split(X_scaled, y, test_size=0.2, random_state=42)"
   ]
  },
  {
   "cell_type": "markdown",
   "metadata": {},
   "source": [
    "**Applying SMOTE on training data**"
   ]
  },
  {
   "cell_type": "code",
   "execution_count": 110,
   "metadata": {},
   "outputs": [],
   "source": [
    "# Applying SMOTE on training data only\n",
    "smote = SMOTE(random_state=42)\n",
    "X_train_smote, y_train_smote = smote.fit_resample(X_train, y_train)"
   ]
  },
  {
   "cell_type": "markdown",
   "metadata": {},
   "source": [
    "**Initialize and Train the AdaBoost Model**"
   ]
  },
  {
   "cell_type": "code",
   "execution_count": 114,
   "metadata": {},
   "outputs": [],
   "source": [
    "# Initialize AdaBoost classifier\n",
    "ada_classifier = AdaBoostClassifier(\n",
    "    estimator=DecisionTreeClassifier(max_depth=1),  # Decision stump as weak learner\n",
    "    n_estimators=50,  # Number of weak learners\n",
    "    learning_rate=1.0,  # Default learning rate\n",
    "    algorithm=\"SAMME\",  # Set to SAMME to avoid the FutureWarning\n",
    "    random_state=42\n",
    ")"
   ]
  },
  {
   "cell_type": "markdown",
   "metadata": {},
   "source": [
    "**Training the model with SMOTE**"
   ]
  },
  {
   "cell_type": "code",
   "execution_count": 118,
   "metadata": {},
   "outputs": [
    {
     "data": {
      "text/html": [
       "<style>#sk-container-id-3 {\n",
       "  /* Definition of color scheme common for light and dark mode */\n",
       "  --sklearn-color-text: black;\n",
       "  --sklearn-color-line: gray;\n",
       "  /* Definition of color scheme for unfitted estimators */\n",
       "  --sklearn-color-unfitted-level-0: #fff5e6;\n",
       "  --sklearn-color-unfitted-level-1: #f6e4d2;\n",
       "  --sklearn-color-unfitted-level-2: #ffe0b3;\n",
       "  --sklearn-color-unfitted-level-3: chocolate;\n",
       "  /* Definition of color scheme for fitted estimators */\n",
       "  --sklearn-color-fitted-level-0: #f0f8ff;\n",
       "  --sklearn-color-fitted-level-1: #d4ebff;\n",
       "  --sklearn-color-fitted-level-2: #b3dbfd;\n",
       "  --sklearn-color-fitted-level-3: cornflowerblue;\n",
       "\n",
       "  /* Specific color for light theme */\n",
       "  --sklearn-color-text-on-default-background: var(--sg-text-color, var(--theme-code-foreground, var(--jp-content-font-color1, black)));\n",
       "  --sklearn-color-background: var(--sg-background-color, var(--theme-background, var(--jp-layout-color0, white)));\n",
       "  --sklearn-color-border-box: var(--sg-text-color, var(--theme-code-foreground, var(--jp-content-font-color1, black)));\n",
       "  --sklearn-color-icon: #696969;\n",
       "\n",
       "  @media (prefers-color-scheme: dark) {\n",
       "    /* Redefinition of color scheme for dark theme */\n",
       "    --sklearn-color-text-on-default-background: var(--sg-text-color, var(--theme-code-foreground, var(--jp-content-font-color1, white)));\n",
       "    --sklearn-color-background: var(--sg-background-color, var(--theme-background, var(--jp-layout-color0, #111)));\n",
       "    --sklearn-color-border-box: var(--sg-text-color, var(--theme-code-foreground, var(--jp-content-font-color1, white)));\n",
       "    --sklearn-color-icon: #878787;\n",
       "  }\n",
       "}\n",
       "\n",
       "#sk-container-id-3 {\n",
       "  color: var(--sklearn-color-text);\n",
       "}\n",
       "\n",
       "#sk-container-id-3 pre {\n",
       "  padding: 0;\n",
       "}\n",
       "\n",
       "#sk-container-id-3 input.sk-hidden--visually {\n",
       "  border: 0;\n",
       "  clip: rect(1px 1px 1px 1px);\n",
       "  clip: rect(1px, 1px, 1px, 1px);\n",
       "  height: 1px;\n",
       "  margin: -1px;\n",
       "  overflow: hidden;\n",
       "  padding: 0;\n",
       "  position: absolute;\n",
       "  width: 1px;\n",
       "}\n",
       "\n",
       "#sk-container-id-3 div.sk-dashed-wrapped {\n",
       "  border: 1px dashed var(--sklearn-color-line);\n",
       "  margin: 0 0.4em 0.5em 0.4em;\n",
       "  box-sizing: border-box;\n",
       "  padding-bottom: 0.4em;\n",
       "  background-color: var(--sklearn-color-background);\n",
       "}\n",
       "\n",
       "#sk-container-id-3 div.sk-container {\n",
       "  /* jupyter's `normalize.less` sets `[hidden] { display: none; }`\n",
       "     but bootstrap.min.css set `[hidden] { display: none !important; }`\n",
       "     so we also need the `!important` here to be able to override the\n",
       "     default hidden behavior on the sphinx rendered scikit-learn.org.\n",
       "     See: https://github.com/scikit-learn/scikit-learn/issues/21755 */\n",
       "  display: inline-block !important;\n",
       "  position: relative;\n",
       "}\n",
       "\n",
       "#sk-container-id-3 div.sk-text-repr-fallback {\n",
       "  display: none;\n",
       "}\n",
       "\n",
       "div.sk-parallel-item,\n",
       "div.sk-serial,\n",
       "div.sk-item {\n",
       "  /* draw centered vertical line to link estimators */\n",
       "  background-image: linear-gradient(var(--sklearn-color-text-on-default-background), var(--sklearn-color-text-on-default-background));\n",
       "  background-size: 2px 100%;\n",
       "  background-repeat: no-repeat;\n",
       "  background-position: center center;\n",
       "}\n",
       "\n",
       "/* Parallel-specific style estimator block */\n",
       "\n",
       "#sk-container-id-3 div.sk-parallel-item::after {\n",
       "  content: \"\";\n",
       "  width: 100%;\n",
       "  border-bottom: 2px solid var(--sklearn-color-text-on-default-background);\n",
       "  flex-grow: 1;\n",
       "}\n",
       "\n",
       "#sk-container-id-3 div.sk-parallel {\n",
       "  display: flex;\n",
       "  align-items: stretch;\n",
       "  justify-content: center;\n",
       "  background-color: var(--sklearn-color-background);\n",
       "  position: relative;\n",
       "}\n",
       "\n",
       "#sk-container-id-3 div.sk-parallel-item {\n",
       "  display: flex;\n",
       "  flex-direction: column;\n",
       "}\n",
       "\n",
       "#sk-container-id-3 div.sk-parallel-item:first-child::after {\n",
       "  align-self: flex-end;\n",
       "  width: 50%;\n",
       "}\n",
       "\n",
       "#sk-container-id-3 div.sk-parallel-item:last-child::after {\n",
       "  align-self: flex-start;\n",
       "  width: 50%;\n",
       "}\n",
       "\n",
       "#sk-container-id-3 div.sk-parallel-item:only-child::after {\n",
       "  width: 0;\n",
       "}\n",
       "\n",
       "/* Serial-specific style estimator block */\n",
       "\n",
       "#sk-container-id-3 div.sk-serial {\n",
       "  display: flex;\n",
       "  flex-direction: column;\n",
       "  align-items: center;\n",
       "  background-color: var(--sklearn-color-background);\n",
       "  padding-right: 1em;\n",
       "  padding-left: 1em;\n",
       "}\n",
       "\n",
       "\n",
       "/* Toggleable style: style used for estimator/Pipeline/ColumnTransformer box that is\n",
       "clickable and can be expanded/collapsed.\n",
       "- Pipeline and ColumnTransformer use this feature and define the default style\n",
       "- Estimators will overwrite some part of the style using the `sk-estimator` class\n",
       "*/\n",
       "\n",
       "/* Pipeline and ColumnTransformer style (default) */\n",
       "\n",
       "#sk-container-id-3 div.sk-toggleable {\n",
       "  /* Default theme specific background. It is overwritten whether we have a\n",
       "  specific estimator or a Pipeline/ColumnTransformer */\n",
       "  background-color: var(--sklearn-color-background);\n",
       "}\n",
       "\n",
       "/* Toggleable label */\n",
       "#sk-container-id-3 label.sk-toggleable__label {\n",
       "  cursor: pointer;\n",
       "  display: block;\n",
       "  width: 100%;\n",
       "  margin-bottom: 0;\n",
       "  padding: 0.5em;\n",
       "  box-sizing: border-box;\n",
       "  text-align: center;\n",
       "}\n",
       "\n",
       "#sk-container-id-3 label.sk-toggleable__label-arrow:before {\n",
       "  /* Arrow on the left of the label */\n",
       "  content: \"▸\";\n",
       "  float: left;\n",
       "  margin-right: 0.25em;\n",
       "  color: var(--sklearn-color-icon);\n",
       "}\n",
       "\n",
       "#sk-container-id-3 label.sk-toggleable__label-arrow:hover:before {\n",
       "  color: var(--sklearn-color-text);\n",
       "}\n",
       "\n",
       "/* Toggleable content - dropdown */\n",
       "\n",
       "#sk-container-id-3 div.sk-toggleable__content {\n",
       "  max-height: 0;\n",
       "  max-width: 0;\n",
       "  overflow: hidden;\n",
       "  text-align: left;\n",
       "  /* unfitted */\n",
       "  background-color: var(--sklearn-color-unfitted-level-0);\n",
       "}\n",
       "\n",
       "#sk-container-id-3 div.sk-toggleable__content.fitted {\n",
       "  /* fitted */\n",
       "  background-color: var(--sklearn-color-fitted-level-0);\n",
       "}\n",
       "\n",
       "#sk-container-id-3 div.sk-toggleable__content pre {\n",
       "  margin: 0.2em;\n",
       "  border-radius: 0.25em;\n",
       "  color: var(--sklearn-color-text);\n",
       "  /* unfitted */\n",
       "  background-color: var(--sklearn-color-unfitted-level-0);\n",
       "}\n",
       "\n",
       "#sk-container-id-3 div.sk-toggleable__content.fitted pre {\n",
       "  /* unfitted */\n",
       "  background-color: var(--sklearn-color-fitted-level-0);\n",
       "}\n",
       "\n",
       "#sk-container-id-3 input.sk-toggleable__control:checked~div.sk-toggleable__content {\n",
       "  /* Expand drop-down */\n",
       "  max-height: 200px;\n",
       "  max-width: 100%;\n",
       "  overflow: auto;\n",
       "}\n",
       "\n",
       "#sk-container-id-3 input.sk-toggleable__control:checked~label.sk-toggleable__label-arrow:before {\n",
       "  content: \"▾\";\n",
       "}\n",
       "\n",
       "/* Pipeline/ColumnTransformer-specific style */\n",
       "\n",
       "#sk-container-id-3 div.sk-label input.sk-toggleable__control:checked~label.sk-toggleable__label {\n",
       "  color: var(--sklearn-color-text);\n",
       "  background-color: var(--sklearn-color-unfitted-level-2);\n",
       "}\n",
       "\n",
       "#sk-container-id-3 div.sk-label.fitted input.sk-toggleable__control:checked~label.sk-toggleable__label {\n",
       "  background-color: var(--sklearn-color-fitted-level-2);\n",
       "}\n",
       "\n",
       "/* Estimator-specific style */\n",
       "\n",
       "/* Colorize estimator box */\n",
       "#sk-container-id-3 div.sk-estimator input.sk-toggleable__control:checked~label.sk-toggleable__label {\n",
       "  /* unfitted */\n",
       "  background-color: var(--sklearn-color-unfitted-level-2);\n",
       "}\n",
       "\n",
       "#sk-container-id-3 div.sk-estimator.fitted input.sk-toggleable__control:checked~label.sk-toggleable__label {\n",
       "  /* fitted */\n",
       "  background-color: var(--sklearn-color-fitted-level-2);\n",
       "}\n",
       "\n",
       "#sk-container-id-3 div.sk-label label.sk-toggleable__label,\n",
       "#sk-container-id-3 div.sk-label label {\n",
       "  /* The background is the default theme color */\n",
       "  color: var(--sklearn-color-text-on-default-background);\n",
       "}\n",
       "\n",
       "/* On hover, darken the color of the background */\n",
       "#sk-container-id-3 div.sk-label:hover label.sk-toggleable__label {\n",
       "  color: var(--sklearn-color-text);\n",
       "  background-color: var(--sklearn-color-unfitted-level-2);\n",
       "}\n",
       "\n",
       "/* Label box, darken color on hover, fitted */\n",
       "#sk-container-id-3 div.sk-label.fitted:hover label.sk-toggleable__label.fitted {\n",
       "  color: var(--sklearn-color-text);\n",
       "  background-color: var(--sklearn-color-fitted-level-2);\n",
       "}\n",
       "\n",
       "/* Estimator label */\n",
       "\n",
       "#sk-container-id-3 div.sk-label label {\n",
       "  font-family: monospace;\n",
       "  font-weight: bold;\n",
       "  display: inline-block;\n",
       "  line-height: 1.2em;\n",
       "}\n",
       "\n",
       "#sk-container-id-3 div.sk-label-container {\n",
       "  text-align: center;\n",
       "}\n",
       "\n",
       "/* Estimator-specific */\n",
       "#sk-container-id-3 div.sk-estimator {\n",
       "  font-family: monospace;\n",
       "  border: 1px dotted var(--sklearn-color-border-box);\n",
       "  border-radius: 0.25em;\n",
       "  box-sizing: border-box;\n",
       "  margin-bottom: 0.5em;\n",
       "  /* unfitted */\n",
       "  background-color: var(--sklearn-color-unfitted-level-0);\n",
       "}\n",
       "\n",
       "#sk-container-id-3 div.sk-estimator.fitted {\n",
       "  /* fitted */\n",
       "  background-color: var(--sklearn-color-fitted-level-0);\n",
       "}\n",
       "\n",
       "/* on hover */\n",
       "#sk-container-id-3 div.sk-estimator:hover {\n",
       "  /* unfitted */\n",
       "  background-color: var(--sklearn-color-unfitted-level-2);\n",
       "}\n",
       "\n",
       "#sk-container-id-3 div.sk-estimator.fitted:hover {\n",
       "  /* fitted */\n",
       "  background-color: var(--sklearn-color-fitted-level-2);\n",
       "}\n",
       "\n",
       "/* Specification for estimator info (e.g. \"i\" and \"?\") */\n",
       "\n",
       "/* Common style for \"i\" and \"?\" */\n",
       "\n",
       ".sk-estimator-doc-link,\n",
       "a:link.sk-estimator-doc-link,\n",
       "a:visited.sk-estimator-doc-link {\n",
       "  float: right;\n",
       "  font-size: smaller;\n",
       "  line-height: 1em;\n",
       "  font-family: monospace;\n",
       "  background-color: var(--sklearn-color-background);\n",
       "  border-radius: 1em;\n",
       "  height: 1em;\n",
       "  width: 1em;\n",
       "  text-decoration: none !important;\n",
       "  margin-left: 1ex;\n",
       "  /* unfitted */\n",
       "  border: var(--sklearn-color-unfitted-level-1) 1pt solid;\n",
       "  color: var(--sklearn-color-unfitted-level-1);\n",
       "}\n",
       "\n",
       ".sk-estimator-doc-link.fitted,\n",
       "a:link.sk-estimator-doc-link.fitted,\n",
       "a:visited.sk-estimator-doc-link.fitted {\n",
       "  /* fitted */\n",
       "  border: var(--sklearn-color-fitted-level-1) 1pt solid;\n",
       "  color: var(--sklearn-color-fitted-level-1);\n",
       "}\n",
       "\n",
       "/* On hover */\n",
       "div.sk-estimator:hover .sk-estimator-doc-link:hover,\n",
       ".sk-estimator-doc-link:hover,\n",
       "div.sk-label-container:hover .sk-estimator-doc-link:hover,\n",
       ".sk-estimator-doc-link:hover {\n",
       "  /* unfitted */\n",
       "  background-color: var(--sklearn-color-unfitted-level-3);\n",
       "  color: var(--sklearn-color-background);\n",
       "  text-decoration: none;\n",
       "}\n",
       "\n",
       "div.sk-estimator.fitted:hover .sk-estimator-doc-link.fitted:hover,\n",
       ".sk-estimator-doc-link.fitted:hover,\n",
       "div.sk-label-container:hover .sk-estimator-doc-link.fitted:hover,\n",
       ".sk-estimator-doc-link.fitted:hover {\n",
       "  /* fitted */\n",
       "  background-color: var(--sklearn-color-fitted-level-3);\n",
       "  color: var(--sklearn-color-background);\n",
       "  text-decoration: none;\n",
       "}\n",
       "\n",
       "/* Span, style for the box shown on hovering the info icon */\n",
       ".sk-estimator-doc-link span {\n",
       "  display: none;\n",
       "  z-index: 9999;\n",
       "  position: relative;\n",
       "  font-weight: normal;\n",
       "  right: .2ex;\n",
       "  padding: .5ex;\n",
       "  margin: .5ex;\n",
       "  width: min-content;\n",
       "  min-width: 20ex;\n",
       "  max-width: 50ex;\n",
       "  color: var(--sklearn-color-text);\n",
       "  box-shadow: 2pt 2pt 4pt #999;\n",
       "  /* unfitted */\n",
       "  background: var(--sklearn-color-unfitted-level-0);\n",
       "  border: .5pt solid var(--sklearn-color-unfitted-level-3);\n",
       "}\n",
       "\n",
       ".sk-estimator-doc-link.fitted span {\n",
       "  /* fitted */\n",
       "  background: var(--sklearn-color-fitted-level-0);\n",
       "  border: var(--sklearn-color-fitted-level-3);\n",
       "}\n",
       "\n",
       ".sk-estimator-doc-link:hover span {\n",
       "  display: block;\n",
       "}\n",
       "\n",
       "/* \"?\"-specific style due to the `<a>` HTML tag */\n",
       "\n",
       "#sk-container-id-3 a.estimator_doc_link {\n",
       "  float: right;\n",
       "  font-size: 1rem;\n",
       "  line-height: 1em;\n",
       "  font-family: monospace;\n",
       "  background-color: var(--sklearn-color-background);\n",
       "  border-radius: 1rem;\n",
       "  height: 1rem;\n",
       "  width: 1rem;\n",
       "  text-decoration: none;\n",
       "  /* unfitted */\n",
       "  color: var(--sklearn-color-unfitted-level-1);\n",
       "  border: var(--sklearn-color-unfitted-level-1) 1pt solid;\n",
       "}\n",
       "\n",
       "#sk-container-id-3 a.estimator_doc_link.fitted {\n",
       "  /* fitted */\n",
       "  border: var(--sklearn-color-fitted-level-1) 1pt solid;\n",
       "  color: var(--sklearn-color-fitted-level-1);\n",
       "}\n",
       "\n",
       "/* On hover */\n",
       "#sk-container-id-3 a.estimator_doc_link:hover {\n",
       "  /* unfitted */\n",
       "  background-color: var(--sklearn-color-unfitted-level-3);\n",
       "  color: var(--sklearn-color-background);\n",
       "  text-decoration: none;\n",
       "}\n",
       "\n",
       "#sk-container-id-3 a.estimator_doc_link.fitted:hover {\n",
       "  /* fitted */\n",
       "  background-color: var(--sklearn-color-fitted-level-3);\n",
       "}\n",
       "</style><div id=\"sk-container-id-3\" class=\"sk-top-container\"><div class=\"sk-text-repr-fallback\"><pre>AdaBoostClassifier(algorithm=&#x27;SAMME&#x27;,\n",
       "                   estimator=DecisionTreeClassifier(max_depth=1),\n",
       "                   random_state=42)</pre><b>In a Jupyter environment, please rerun this cell to show the HTML representation or trust the notebook. <br />On GitHub, the HTML representation is unable to render, please try loading this page with nbviewer.org.</b></div><div class=\"sk-container\" hidden><div class=\"sk-item sk-dashed-wrapped\"><div class=\"sk-label-container\"><div class=\"sk-label fitted sk-toggleable\"><input class=\"sk-toggleable__control sk-hidden--visually\" id=\"sk-estimator-id-3\" type=\"checkbox\" ><label for=\"sk-estimator-id-3\" class=\"sk-toggleable__label fitted sk-toggleable__label-arrow fitted\">&nbsp;&nbsp;AdaBoostClassifier<a class=\"sk-estimator-doc-link fitted\" rel=\"noreferrer\" target=\"_blank\" href=\"https://scikit-learn.org/1.4/modules/generated/sklearn.ensemble.AdaBoostClassifier.html\">?<span>Documentation for AdaBoostClassifier</span></a><span class=\"sk-estimator-doc-link fitted\">i<span>Fitted</span></span></label><div class=\"sk-toggleable__content fitted\"><pre>AdaBoostClassifier(algorithm=&#x27;SAMME&#x27;,\n",
       "                   estimator=DecisionTreeClassifier(max_depth=1),\n",
       "                   random_state=42)</pre></div> </div></div><div class=\"sk-parallel\"><div class=\"sk-parallel-item\"><div class=\"sk-item\"><div class=\"sk-label-container\"><div class=\"sk-label fitted sk-toggleable\"><input class=\"sk-toggleable__control sk-hidden--visually\" id=\"sk-estimator-id-4\" type=\"checkbox\" ><label for=\"sk-estimator-id-4\" class=\"sk-toggleable__label fitted sk-toggleable__label-arrow fitted\">estimator: DecisionTreeClassifier</label><div class=\"sk-toggleable__content fitted\"><pre>DecisionTreeClassifier(max_depth=1)</pre></div> </div></div><div class=\"sk-serial\"><div class=\"sk-item\"><div class=\"sk-estimator fitted sk-toggleable\"><input class=\"sk-toggleable__control sk-hidden--visually\" id=\"sk-estimator-id-5\" type=\"checkbox\" ><label for=\"sk-estimator-id-5\" class=\"sk-toggleable__label fitted sk-toggleable__label-arrow fitted\">&nbsp;DecisionTreeClassifier<a class=\"sk-estimator-doc-link fitted\" rel=\"noreferrer\" target=\"_blank\" href=\"https://scikit-learn.org/1.4/modules/generated/sklearn.tree.DecisionTreeClassifier.html\">?<span>Documentation for DecisionTreeClassifier</span></a></label><div class=\"sk-toggleable__content fitted\"><pre>DecisionTreeClassifier(max_depth=1)</pre></div> </div></div></div></div></div></div></div></div></div>"
      ],
      "text/plain": [
       "AdaBoostClassifier(algorithm='SAMME',\n",
       "                   estimator=DecisionTreeClassifier(max_depth=1),\n",
       "                   random_state=42)"
      ]
     },
     "execution_count": 118,
     "metadata": {},
     "output_type": "execute_result"
    }
   ],
   "source": [
    "# Training the model with SMOTE-applied data\n",
    "ada_classifier.fit(X_train_smote, y_train_smote)"
   ]
  },
  {
   "cell_type": "markdown",
   "metadata": {},
   "source": [
    "**Predicting on the test**"
   ]
  },
  {
   "cell_type": "code",
   "execution_count": 121,
   "metadata": {},
   "outputs": [],
   "source": [
    "# Predicting on the test set\n",
    "y_pred_smote = ada_classifier.predict(X_test)"
   ]
  },
  {
   "cell_type": "markdown",
   "metadata": {},
   "source": [
    "**Calculating performance metrics**"
   ]
  },
  {
   "cell_type": "code",
   "execution_count": 123,
   "metadata": {},
   "outputs": [],
   "source": [
    "# Calculating performance metrics\n",
    "accuracy_smote = accuracy_score(y_test, y_pred_smote)\n",
    "precision_smote = precision_score(y_test, y_pred_smote)\n",
    "recall_smote = recall_score(y_test, y_pred_smote)\n",
    "f1_smote = f1_score(y_test, y_pred_smote)\n",
    "conf_matrix_smote = confusion_matrix(y_test, y_pred_smote)"
   ]
  },
  {
   "cell_type": "markdown",
   "metadata": {},
   "source": [
    "**Displaying the evaluation results and Visualization of Confusion Matrix**"
   ]
  },
  {
   "cell_type": "code",
   "execution_count": 127,
   "metadata": {},
   "outputs": [
    {
     "name": "stdout",
     "output_type": "stream",
     "text": [
      "\n",
      "Accuracy: 0.9825\n",
      "\n",
      "Precision: 0.9767\n",
      "\n",
      "Recall: 0.9767\n",
      "\n",
      "F1 Score: 0.9767\n",
      "\n",
      "Confusion Matrix:\n",
      "[[70  1]\n",
      " [ 1 42]]\n"
     ]
    },
    {
     "data": {
      "image/png": "[encoded data removed]",
      "text/plain": [
       "<Figure size 600x400 with 2 Axes>"
      ]
     },
     "metadata": {},
     "output_type": "display_data"
    }
   ],
   "source": [
    "# Displaying the evaluation results\n",
    "print(f\"\\nAccuracy: {accuracy_smote:.4f}\")\n",
    "print(f\"\\nPrecision: {precision_smote:.4f}\")\n",
    "print(f\"\\nRecall: {recall_smote:.4f}\")\n",
    "print(f\"\\nF1 Score: {f1_smote:.4f}\")\n",
    "print(\"\\nConfusion Matrix:\")\n",
    "print(conf_matrix_smote)\n",
    "\n",
    "# Visualize the Confusion Matrix\n",
    "plt.figure(figsize=(6, 4))\n",
    "sns.heatmap(conf_matrix_smote, annot=True, fmt='d', cmap='Blues', xticklabels=['Benign', 'Malignant'], yticklabels=['Benign', 'Malignant'])\n",
    "plt.xlabel('Predicted')\n",
    "plt.ylabel('Actual')\n",
    "plt.title('Confusion Matrix for AdaBoost Classifier')\n",
    "plt.show()"
   ]
  },
  {
   "cell_type": "markdown",
   "metadata": {},
   "source": [
    "**Generating the classification report**"
   ]
  },
  {
   "cell_type": "code",
   "execution_count": 131,
   "metadata": {},
   "outputs": [
    {
     "name": "stdout",
     "output_type": "stream",
     "text": [
      "Classification Report:\n",
      "               precision    recall  f1-score   support\n",
      "\n",
      "           0       0.99      0.99      0.99        71\n",
      "           1       0.98      0.98      0.98        43\n",
      "\n",
      "    accuracy                           0.98       114\n",
      "   macro avg       0.98      0.98      0.98       114\n",
      "weighted avg       0.98      0.98      0.98       114\n",
      "\n"
     ]
    }
   ],
   "source": [
    "# Generate the classification report\n",
    "report_smote = classification_report(y_test, y_pred_smote)\n",
    "\n",
    "# Print the classification report\n",
    "print(\"Classification Report:\\n\", report_smote)\n"
   ]
  }
 ],
 "metadata": {
  "colab": {
   "provenance": []
  },
  "kernelspec": {
   "display_name": "Python 3 (ipykernel)",
   "language": "python",
   "name": "python3"
  },
  "language_info": {
   "codemirror_mode": {
    "name": "ipython",
    "version": 3
   },
   "file_extension": ".py",
   "mimetype": "text/x-python",
   "name": "python",
   "nbconvert_exporter": "python",
   "pygments_lexer": "ipython3",
   "version": "3.12.4"
  }
 },
 "nbformat": 4,
 "nbformat_minor": 4
}
